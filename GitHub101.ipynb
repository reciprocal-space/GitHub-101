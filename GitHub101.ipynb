{
 "cells": [
  {
   "cell_type": "markdown",
   "metadata": {},
   "source": [
    " # GitHub 101: An Introduction to GitHub"
   ]
  },
  {
   "cell_type": "markdown",
   "metadata": {},
   "source": [
    "This document is designed to provide a quick introduction to the GitHub platform, as well as its main features. By the end you should be able to use GitHub to share code and collaborate on projects."
   ]
  },
  {
   "cell_type": "markdown",
   "metadata": {},
   "source": [
    "Before we get started there are a few things to know. GitHub is a web-based service that employs the Git version control system for tracking changes in files. This makes it easy to collaborate with others on projects, especially those containing computer code, as any user can make contributions to the document and GitHub will track the changes - the key point being that each user can easily make changes to a document without overwriting it because Git takes a snapshot of your work at every instance of time.\n",
    "\n",
    "The GitHub workflow is structured to make collaboration easy and efficient. Each project you create is hosted in its own directory or 'repository', with the components of the project (e.g. individual files containing specific code) hosted on the 'master' branch. Collaborators can then stem off Master and create their own branches. The work a collaborator does on their own branch is separate from the Master, and it is therefore easy for multiple collaborators to work on a project without any interference or loss of work. Once  a collaborator has their work ready, or they would like someone to review the changes they have made, they can issue a 'Pull Request'. Other project members can then review the changes made to the project before 'merging' these changes back to the master branch. Finally, an 'Issue' on GitHub is something that needs attention; it could be a feature that needs to be added to the project, or it could be bug in a certain piece of code that needs to be fixed. Github lets you label, search, and assign Issues, making project management much easier. \n",
    "\n",
    "The following sections are designed to quickly introduce you to the features of GitHub, so that you can start collabrating on your project."
   ]
  },
  {
   "cell_type": "markdown",
   "metadata": {},
   "source": [
    "# Creating a Github Account\n",
    "\n",
    "To use GitHub, the first step is to create a GitHub account. This can be easily done by:\n",
    "\n",
    "<ol>\n",
    "    <li>Going to https://github.com </li>\n",
    "    <li>Filling in your information and clicking sign up</li>\n",
    "    ![title](startpage.png)\n",
    "    <li>Choosing a plan</li>\n",
    "    ![title](plan.png)\n",
    "    <li>Selecting how you intend to use GitHub</li>\n",
    "    <p>Note that while this may seem tedious, it will configure GitHub to best suit you.</p>  \n",
    "</ol>\n",
    "\n",
    "Next, we will start a project."
   ]
  },
  {
   "cell_type": "markdown",
   "metadata": {},
   "source": [
    "# Starting a New Project\n",
    "\n",
    "NOTE: You MUST verify your e-mail address before GitHub will let you start a new project -- this can easily be done by checking the inbox folder associated with the e-mail address you signed up with, and following the link in the verification e-mail.\n",
    "\n",
    "Next we will create a new project:\n",
    "\n",
    "<ol>\n",
    "    <li>Click 'Start a project'</li>\n",
    "    <p>You will then face the following prompt</p>\n",
    "    ![title](createrepository.png)\n",
    "    <li>Fill in the name of your project under 'Repository name'</li>\n",
    "    <li>Write a short description for the project</li>\n",
    "    <p>While this step is optional, it is always good practice to explicitly state the details of you project before you start</p>\n",
    "    <li>Check the box next to 'Initialize this repository with a README'</li>\n",
    "    <p>You have now created a new repository! Your page should look like this (with the appropriate titles):</p>\n",
    "    ![title](repo.png)\n",
    "</ol>\n",
    "\n",
    "In the next section we will discuss editing documentation for your project, creating and uploading new documents and creating branches."
   ]
  },
  {
   "cell_type": "markdown",
   "metadata": {},
   "source": [
    "# Creating a New Branch\n",
    "\n",
    "The following steps detail how to create your own branch from Master. Before you get started, make sure you are under the code tab.\n",
    "<ol>\n",
    "    ![title](codetab.png)\n",
    "</ol>\n",
    "\n",
    "Once you have navigated to the code tab, we can get started:\n",
    "<ol>\n",
    "    <li>Locate branch Branch: Master and click on it</li>\n",
    "    <p>You should see a drop down menu unfold</p>\n",
    "    ![title](ddmenu.png)\n",
    "    <li>Fill in the name of your Branch in the text box and press Enter to create your branch</li>\n",
    "</ol>"
   ]
  },
  {
   "cell_type": "markdown",
   "metadata": {},
   "source": [
    "# Editing and Adding Documents\n",
    "\n",
    "The following steps detail how to edit your README.md document in case you want to outline your project before starting. If you would like to start with your project, feel free to skip ahead.\n",
    "\n",
    "<ol>\n",
    "    <li>Click on 'README.md'</li>\n",
    "    <p>This should take you to the document</p>\n",
    "    <li>Locate the 'pencil' symbol on the right corner of the code box and click it</li>\n",
    "    ![title](repo.png)\n",
    "    <p>You should now be able to able to edit your documentation and add your project goals and methodology</p>\n",
    "</ol>\n",
    "\n"
   ]
  },
  {
   "cell_type": "markdown",
   "metadata": {},
   "source": [
    "# Using Pull Requests\n",
    "\n",
    "Once you have created a file or made changes to a document, you can issue a pull request to show others your suggestions. To issue a pull request:\n",
    "\n",
    "<ol>\n",
    "    <li>Navigate to the 'Pull Requests' tab</li>\n",
    "    ![title](pullreq.png)\n",
    "    <li>Click 'New Pull Request'</li>\n",
    "    <li>Select 'base:master' and on the adjacent dropdown menu select 'compare:your-branch', where your branch is the branch under which your suggestions are located</li>\n",
    "    ![title](pullreq.png)\n",
    "    <li>Finally click on preview to see how the proposed changes will look</li>\n",
    "    <p>It is a good idea to explain the changes you have made in your pull request</p>\n",
    "    <li>Click on 'Merge pull request' to add the changes you have made, to the master branch\n",
    "</ol>"
   ]
  }
 ],
 "metadata": {
  "kernelspec": {
   "display_name": "Python 2",
   "language": "python",
   "name": "python2"
  },
  "language_info": {
   "codemirror_mode": {
    "name": "ipython",
    "version": 2
   },
   "file_extension": ".py",
   "mimetype": "text/x-python",
   "name": "python",
   "nbconvert_exporter": "python",
   "pygments_lexer": "ipython2",
   "version": "2.7.12"
  }
 },
 "nbformat": 4,
 "nbformat_minor": 2
}
